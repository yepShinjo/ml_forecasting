{
 "cells": [
  {
   "cell_type": "markdown",
   "id": "20c81e26",
   "metadata": {},
   "source": [
    "# Brew"
   ]
  },
  {
   "cell_type": "code",
   "execution_count": 2,
   "id": "8caf8b5c",
   "metadata": {
    "vscode": {
     "languageId": "plaintext"
    }
   },
   "outputs": [
    {
     "name": "stdout",
     "output_type": "stream",
     "text": [
      "Requirement already satisfied: pandas in /opt/conda/lib/python3.12/site-packages (2.2.3)\n",
      "Requirement already satisfied: numpy>=1.26.0 in /opt/conda/lib/python3.12/site-packages (from pandas) (1.26.4)\n",
      "Requirement already satisfied: python-dateutil>=2.8.2 in /opt/conda/lib/python3.12/site-packages (from pandas) (2.9.0.post0)\n",
      "Requirement already satisfied: pytz>=2020.1 in /opt/conda/lib/python3.12/site-packages (from pandas) (2024.2)\n",
      "Requirement already satisfied: tzdata>=2022.7 in /opt/conda/lib/python3.12/site-packages (from pandas) (2025.2)\n",
      "Requirement already satisfied: six>=1.5 in /opt/conda/lib/python3.12/site-packages (from python-dateutil>=2.8.2->pandas) (1.17.0)\n",
      "Collecting pystan==2.19.1.1\n",
      "  Using cached pystan-2.19.1.1.tar.gz (16.2 MB)\n",
      "  Preparing metadata (setup.py) ... \u001b[?25ldone\n",
      "\u001b[?25hCollecting Cython!=0.25.1,>=0.22 (from pystan==2.19.1.1)\n",
      "  Using cached cython-3.1.1-cp312-cp312-manylinux_2_17_x86_64.manylinux2014_x86_64.whl.metadata (3.5 kB)\n",
      "Requirement already satisfied: numpy>=1.7 in /opt/conda/lib/python3.12/site-packages (from pystan==2.19.1.1) (1.26.4)\n",
      "Using cached cython-3.1.1-cp312-cp312-manylinux_2_17_x86_64.manylinux2014_x86_64.whl (3.2 MB)\n",
      "Building wheels for collected packages: pystan\n",
      "  Building wheel for pystan (setup.py) ... \u001b[?25lerror\n",
      "  \u001b[1;31merror\u001b[0m: \u001b[1msubprocess-exited-with-error\u001b[0m\n",
      "  \n",
      "  \u001b[31m×\u001b[0m \u001b[32mpython setup.py bdist_wheel\u001b[0m did not run successfully.\n",
      "  \u001b[31m│\u001b[0m exit code: \u001b[1;36m1\u001b[0m\n",
      "  \u001b[31m╰─>\u001b[0m \u001b[31m[3 lines of output]\u001b[0m\n",
      "  \u001b[31m   \u001b[0m /tmp/pip-install-pssec42k/pystan_baacc2d5dab3454d9fa3c72f34121c3a/setup.py:61: DeprecationWarning: Attribute s is deprecated and will be removed in Python 3.14; use value instead\n",
      "  \u001b[31m   \u001b[0m   self.version = node.value.s\n",
      "  \u001b[31m   \u001b[0m Cython>=0.22 and NumPy are required.\n",
      "  \u001b[31m   \u001b[0m \u001b[31m[end of output]\u001b[0m\n",
      "  \n",
      "  \u001b[1;35mnote\u001b[0m: This error originates from a subprocess, and is likely not a problem with pip.\n",
      "\u001b[31m  ERROR: Failed building wheel for pystan\u001b[0m\u001b[31m\n",
      "\u001b[0m\u001b[?25h  Running setup.py clean for pystan\n",
      "Failed to build pystan\n",
      "\u001b[31mERROR: Failed to build installable wheels for some pyproject.toml based projects (pystan)\u001b[0m\u001b[31m\n",
      "\u001b[0mRequirement already satisfied: prophet in /opt/conda/lib/python3.12/site-packages (1.1.6)\n",
      "Requirement already satisfied: cmdstanpy>=1.0.4 in /opt/conda/lib/python3.12/site-packages (from prophet) (1.2.5)\n",
      "Requirement already satisfied: numpy>=1.15.4 in /opt/conda/lib/python3.12/site-packages (from prophet) (1.26.4)\n",
      "Requirement already satisfied: matplotlib>=2.0.0 in /opt/conda/lib/python3.12/site-packages (from prophet) (3.10.1)\n",
      "Requirement already satisfied: pandas>=1.0.4 in /opt/conda/lib/python3.12/site-packages (from prophet) (2.2.3)\n",
      "Requirement already satisfied: holidays<1,>=0.25 in /opt/conda/lib/python3.12/site-packages (from prophet) (0.73)\n",
      "Requirement already satisfied: tqdm>=4.36.1 in /opt/conda/lib/python3.12/site-packages (from prophet) (4.67.1)\n",
      "Requirement already satisfied: importlib-resources in /opt/conda/lib/python3.12/site-packages (from prophet) (6.5.2)\n",
      "Requirement already satisfied: stanio<2.0.0,>=0.4.0 in /opt/conda/lib/python3.12/site-packages (from cmdstanpy>=1.0.4->prophet) (0.5.1)\n",
      "Requirement already satisfied: python-dateutil in /opt/conda/lib/python3.12/site-packages (from holidays<1,>=0.25->prophet) (2.9.0.post0)\n",
      "Requirement already satisfied: contourpy>=1.0.1 in /opt/conda/lib/python3.12/site-packages (from matplotlib>=2.0.0->prophet) (1.3.2)\n",
      "Requirement already satisfied: cycler>=0.10 in /opt/conda/lib/python3.12/site-packages (from matplotlib>=2.0.0->prophet) (0.12.1)\n",
      "Requirement already satisfied: fonttools>=4.22.0 in /opt/conda/lib/python3.12/site-packages (from matplotlib>=2.0.0->prophet) (4.57.0)\n",
      "Requirement already satisfied: kiwisolver>=1.3.1 in /opt/conda/lib/python3.12/site-packages (from matplotlib>=2.0.0->prophet) (1.4.8)\n",
      "Requirement already satisfied: packaging>=20.0 in /opt/conda/lib/python3.12/site-packages (from matplotlib>=2.0.0->prophet) (24.2)\n",
      "Requirement already satisfied: pillow>=8 in /opt/conda/lib/python3.12/site-packages (from matplotlib>=2.0.0->prophet) (11.1.0)\n",
      "Requirement already satisfied: pyparsing>=2.3.1 in /opt/conda/lib/python3.12/site-packages (from matplotlib>=2.0.0->prophet) (3.2.3)\n",
      "Requirement already satisfied: pytz>=2020.1 in /opt/conda/lib/python3.12/site-packages (from pandas>=1.0.4->prophet) (2024.2)\n",
      "Requirement already satisfied: tzdata>=2022.7 in /opt/conda/lib/python3.12/site-packages (from pandas>=1.0.4->prophet) (2025.2)\n",
      "Requirement already satisfied: six>=1.5 in /opt/conda/lib/python3.12/site-packages (from python-dateutil->holidays<1,>=0.25->prophet) (1.17.0)\n",
      "Requirement already satisfied: boto3 in /opt/conda/lib/python3.12/site-packages (1.37.1)\n",
      "Requirement already satisfied: botocore<1.38.0,>=1.37.1 in /opt/conda/lib/python3.12/site-packages (from boto3) (1.37.1)\n",
      "Requirement already satisfied: jmespath<2.0.0,>=0.7.1 in /opt/conda/lib/python3.12/site-packages (from boto3) (1.0.1)\n",
      "Requirement already satisfied: s3transfer<0.12.0,>=0.11.0 in /opt/conda/lib/python3.12/site-packages (from boto3) (0.11.3)\n",
      "Requirement already satisfied: python-dateutil<3.0.0,>=2.1 in /opt/conda/lib/python3.12/site-packages (from botocore<1.38.0,>=1.37.1->boto3) (2.9.0.post0)\n",
      "Requirement already satisfied: urllib3!=2.2.0,<3,>=1.25.4 in /opt/conda/lib/python3.12/site-packages (from botocore<1.38.0,>=1.37.1->boto3) (2.4.0)\n",
      "Requirement already satisfied: six>=1.5 in /opt/conda/lib/python3.12/site-packages (from python-dateutil<3.0.0,>=2.1->botocore<1.38.0,>=1.37.1->boto3) (1.17.0)\n"
     ]
    }
   ],
   "source": [
    "!pip install pandas\n",
    "!pip install pystan==2.19.1.1\n",
    "!pip install prophet\n",
    "!pip install boto3"
   ]
  },
  {
   "cell_type": "code",
   "execution_count": 3,
   "id": "45eda45e",
   "metadata": {
    "vscode": {
     "languageId": "plaintext"
    }
   },
   "outputs": [],
   "source": [
    "import pandas as pd\n",
    "import boto3\n",
    "from prophet import Prophet\n",
    "import numpy as np\n",
    "import os\n"
   ]
  },
  {
   "cell_type": "code",
   "execution_count": 4,
   "id": "f4c22b67",
   "metadata": {
    "vscode": {
     "languageId": "plaintext"
    }
   },
   "outputs": [],
   "source": [
    "bucket = 'phppos-retail-data'    # change to your S3 bucket name\n",
    "s3 = boto3.client('s3')\n",
    "input_key = 'phppos_sales.csv'   # change as needed yep\n",
    "\n",
    "# Download file from S3 to local temp\n",
    "local_file = '/tmp/phppos_sales.csv'\n",
    "s3.download_file(bucket, input_key, local_file)"
   ]
  },
  {
   "cell_type": "code",
   "execution_count": 5,
   "id": "74c64326",
   "metadata": {
    "vscode": {
     "languageId": "plaintext"
    }
   },
   "outputs": [
    {
     "name": "stdout",
     "output_type": "stream",
     "text": [
      "Columns forced to string: discount_reason                      object\n",
      "auth_code                            object\n",
      "deleted_taxes                        object\n",
      "exchange_currency_symbol             object\n",
      "exchange_currency_symbol_location    object\n",
      "exchange_thousands_separator         object\n",
      "exchange_decimal_point               object\n",
      "last_modified                        object\n",
      "override_taxes                       object\n",
      "updated_at                           object\n",
      "dtype: object\n"
     ]
    }
   ],
   "source": [
    "# 2. LOAD DATA\n",
    "\n",
    "cols_as_str = [5, 12, 29, 37, 38, 40, 41, 53, 54, 63]   # zero-based positions yep\n",
    "\n",
    "df = pd.read_csv(\n",
    "    local_file,\n",
    "    dtype={col: str for col in cols_as_str},\n",
    "    low_memory=False\n",
    ")\n",
    "print(\"Columns forced to string:\", df.dtypes.iloc[[*cols_as_str]])\n",
    "\n",
    "df['sale_time'] = pd.to_datetime(df['sale_time'])\n",
    "\n",
    "df_daily = df.groupby(df['sale_time'].dt.date).agg({'total': 'sum'}).reset_index()\n",
    "df_daily.columns = ['ds', 'y']\n",
    "df_daily['ds'] = pd.to_datetime(df_daily['ds'])"
   ]
  },
  {
   "cell_type": "code",
   "execution_count": 6,
   "id": "0565f174",
   "metadata": {
    "vscode": {
     "languageId": "plaintext"
    }
   },
   "outputs": [],
   "source": [
    "# 3. FORECAST FUNCTION\n",
    "\n",
    "def forecast_original(df_raw, periods: int = 30,\n",
    "                      outlier_cap: float = 30_000,\n",
    "                      recent_months: int = 3,\n",
    "                      dup_factor: int = 3):\n",
    "    df = df_raw.copy()\n",
    "    df['sale_time'] = pd.to_datetime(df['sale_time'])\n",
    "\n",
    "    daily = (df.groupby(df['sale_time'].dt.date)['total']\n",
    "               .sum()\n",
    "               .reset_index()\n",
    "               .rename(columns={'sale_time': 'ds', 'total': 'y'}))\n",
    "    daily['ds'] = pd.to_datetime(daily['ds'])\n",
    "    daily = daily[daily['y'] < outlier_cap]\n",
    "\n",
    "    latest = daily['ds'].max()\n",
    "    nine_month_cut = latest - pd.DateOffset(months=9)\n",
    "    df_9m = daily[daily['ds'] >= nine_month_cut]\n",
    "\n",
    "    recent_cut = latest - pd.DateOffset(months=recent_months)\n",
    "    df_recent = df_9m[df_9m['ds'] >= recent_cut]\n",
    "    df_weighted = pd.concat([df_9m] + [df_recent] * dup_factor,\n",
    "                            ignore_index=True)\n",
    "\n",
    "    m = Prophet(interval_width=0.85,\n",
    "                daily_seasonality=False,\n",
    "                changepoint_prior_scale=0.8,\n",
    "                changepoint_range=0.98,\n",
    "                seasonality_mode='multiplicative')\n",
    "    m.fit(df_weighted)\n",
    "\n",
    "    future = m.make_future_dataframe(periods=periods, freq='D')\n",
    "    forecast = m.predict(future)\n",
    "    fc_future = forecast[forecast['ds'] > df_weighted['ds'].max()][\n",
    "        ['ds', 'yhat', 'yhat_lower', 'yhat_upper']\n",
    "    ]\n",
    "\n",
    "    summary = dict(\n",
    "        avg_daily = fc_future['yhat'].mean(),\n",
    "        max_daily = fc_future['yhat'].max(),\n",
    "        total_est = fc_future['yhat'].sum(),\n",
    "        total_low = fc_future['yhat_lower'].sum(),\n",
    "        total_up  = fc_future['yhat_upper'].sum(),\n",
    "        days      = len(fc_future)\n",
    "    )\n",
    "    return fc_future, summary"
   ]
  },
  {
   "cell_type": "code",
   "execution_count": 7,
   "id": "6f7a059b",
   "metadata": {
    "vscode": {
     "languageId": "plaintext"
    }
   },
   "outputs": [
    {
     "name": "stderr",
     "output_type": "stream",
     "text": [
      "07:51:51 - cmdstanpy - INFO - Chain [1] start processing\n",
      "07:51:51 - cmdstanpy - INFO - Chain [1] done processing\n",
      "07:51:52 - cmdstanpy - INFO - Chain [1] start processing\n",
      "07:51:54 - cmdstanpy - INFO - Chain [1] done processing\n",
      "07:51:54 - cmdstanpy - INFO - Chain [1] start processing\n",
      "07:51:54 - cmdstanpy - INFO - Chain [1] done processing\n"
     ]
    }
   ],
   "source": [
    "# 4. PER-LOCATION FORECASTING\n",
    "# ————————————————————————————————————————————\n",
    "location_ids = df['location_id'].unique()\n",
    "forecasts_original = {}\n",
    "summaries_original = {}\n",
    "\n",
    "for loc in location_ids:\n",
    "    df_loc = df[df['location_id'] == loc]\n",
    "    fc, sm = forecast_original(df_loc, periods=30)\n",
    "    forecasts_original[loc] = fc\n",
    "    summaries_original[loc] = sm\n",
    "\n",
    "fc_total, sm_total = forecast_original(df, periods=30)\n",
    "summaries_original['ALL'] = sm_total"
   ]
  },
  {
   "cell_type": "code",
   "execution_count": 8,
   "id": "50226179",
   "metadata": {
    "vscode": {
     "languageId": "plaintext"
    }
   },
   "outputs": [
    {
     "name": "stdout",
     "output_type": "stream",
     "text": [
      "\n",
      "📍 Location 1\n",
      "📊 Sales Forecast Summary (Next 30 Days):\n",
      "\n",
      "- 📈 Average daily forecasted sales: $3,395\n",
      "- 🔺 Highest predicted daily sales: $5,121\n",
      "\n",
      "- 💰 Total expected sales (best estimate): $101,859\n",
      "- 📉 Lower bound (cautious estimate): $39,443\n",
      "- 🔝 Upper bound (optimistic estimate): $163,619\n",
      "\n",
      "🛒 Recommended inventory plan:\n",
      "Prepare stock for around $96,766 in sales and monitor performance weekly.\n",
      "\n",
      "\n",
      "📍 Location 2\n",
      "📊 Sales Forecast Summary (Next 30 Days):\n",
      "\n",
      "- 📈 Average daily forecasted sales: $35\n",
      "- 🔺 Highest predicted daily sales: $111\n",
      "\n",
      "- 💰 Total expected sales (best estimate): $1,042\n",
      "- 📉 Lower bound (cautious estimate): $1,024\n",
      "- 🔝 Upper bound (optimistic estimate): $1,067\n",
      "\n",
      "🛒 Recommended inventory plan:\n",
      "Prepare stock for around $990 in sales and monitor performance weekly.\n",
      "\n",
      "\n",
      "📍 Location ALL LOCATIONS\n",
      "📊 Sales Forecast Summary (Next 30 Days):\n",
      "\n",
      "- 📈 Average daily forecasted sales: $3,395\n",
      "- 🔺 Highest predicted daily sales: $5,121\n",
      "\n",
      "- 💰 Total expected sales (best estimate): $101,859\n",
      "- 📉 Lower bound (cautious estimate): $39,525\n",
      "- 🔝 Upper bound (optimistic estimate): $163,773\n",
      "\n",
      "🛒 Recommended inventory plan:\n",
      "Prepare stock for around $96,766 in sales and monitor performance weekly.\n",
      "\n"
     ]
    }
   ],
   "source": [
    "# 5. PRINT RESULTS\n",
    "# ————————————————————————————————————————————\n",
    "all_summaries = []\n",
    "\n",
    "for loc, sm in summaries_original.items():\n",
    "    all_summaries.append({\n",
    "        'location': 'ALL LOCATIONS' if loc=='ALL' else loc,\n",
    "        **sm\n",
    "    })\n",
    "    print(f\"\"\"\n",
    "📍 Location {'ALL LOCATIONS' if loc=='ALL' else loc}\n",
    "📊 Sales Forecast Summary (Next {sm['days']} Days):\n",
    "\n",
    "- 📈 Average daily forecasted sales: ${sm['avg_daily']:,.0f}\n",
    "- 🔺 Highest predicted daily sales: ${sm['max_daily']:,.0f}\n",
    "\n",
    "- 💰 Total expected sales (best estimate): ${sm['total_est']:,.0f}\n",
    "- 📉 Lower bound (cautious estimate): ${sm['total_low']:,.0f}\n",
    "- 🔝 Upper bound (optimistic estimate): ${sm['total_up']:,.0f}\n",
    "\n",
    "🛒 Recommended inventory plan:\n",
    "Prepare stock for around ${sm['total_est']*0.95:,.0f} in sales and monitor performance weekly.\n",
    "\"\"\")\n"
   ]
  },
  {
   "cell_type": "code",
   "execution_count": 9,
   "id": "878eb747",
   "metadata": {
    "vscode": {
     "languageId": "plaintext"
    }
   },
   "outputs": [],
   "source": [
    "# 6. SAVE SUMMARIES/FORECASTS TO S3 (results only)\n",
    "# ————————————————————————————————————————————\n",
    "results_summary_df = pd.DataFrame(all_summaries)\n",
    "summary_key = 'results/sales_forecast_summary.csv'\n",
    "results_summary_df.to_csv('/tmp/sales_forecast_summary.csv', index=False)\n",
    "s3.upload_file('/tmp/sales_forecast_summary.csv', bucket, summary_key)\n",
    "\n",
    "# (Optional) Save detailed per-location forecasts\n",
    "for loc, fc in forecasts_original.items():\n",
    "    out_path = f'/tmp/forecast_{loc}.csv'\n",
    "    fc.to_csv(out_path, index=False)\n",
    "    s3.upload_file(out_path, bucket, f'results/forecast_{loc}.csv')\n",
    "\n",
    "# ————————————————————————————————————————————\n",
    "# 7. CLEAN UP LOCAL TEMP FILES\n",
    "# ————————————————————————————————————————————\n",
    "# os.remove(local_file)\n",
    "# os.remove('/tmp/sales_forecast_summary.csv')\n",
    "# for loc in forecasts_original:\n",
    "    # os.remove(f'/tmp/forecast_{loc}.csv')\n",
    "\n",
    "# print(\"✅ Forecast results written to S3. Local files cleaned up.\")"
   ]
  }
 ],
 "metadata": {
  "kernelspec": {
   "display_name": "Python 3 (ipykernel)",
   "language": "python",
   "name": "python3"
  },
  "language_info": {
   "codemirror_mode": {
    "name": "ipython",
    "version": 3
   },
   "file_extension": ".py",
   "mimetype": "text/x-python",
   "name": "python",
   "nbconvert_exporter": "python",
   "pygments_lexer": "ipython3",
   "version": "3.12.9"
  }
 },
 "nbformat": 4,
 "nbformat_minor": 5
}
